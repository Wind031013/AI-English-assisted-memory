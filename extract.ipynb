{
 "cells": [
  {
   "cell_type": "code",
   "execution_count": 33,
   "id": "9606f04e",
   "metadata": {},
   "outputs": [],
   "source": [
    "from zhipuai import ZhipuAI"
   ]
  },
  {
   "cell_type": "code",
   "execution_count": 34,
   "id": "ee2f3eb1",
   "metadata": {},
   "outputs": [],
   "source": [
    "SYSTEM_PROMPT = \"\"\"\n",
    "你是一个专业的英语词汇分析助手,我会提供一篇英语短文,请以{identity}学习者的角度提取重点单词,\n",
    "根据{identity}，从中筛选出属于该阶段/考试大纲范围内的单词。\n",
    "返回格式为answer后一个列表,样例如下\n",
    "{{\n",
    "  \"answer\": [\n",
    "    \"read\",\n",
    "    \"write\",\n",
    "    \"play\",\n",
    "    \"work\",\n",
    "    ...\n",
    "  ]\n",
    "}}\n",
    "\"\"\"\n",
    "identity = \"高中生\""
   ]
  },
  {
   "cell_type": "code",
   "execution_count": 35,
   "id": "66f79b6c",
   "metadata": {},
   "outputs": [],
   "source": [
    "word = \"\"\"\n",
    "Most adults find it hard to recall events from their first few years of life and now scientists have found exactly when these childhood memories fade.\n",
    "A new study has found that most three-year-olds can recall a lot of what happened to them over a year earlier, and these memories persist while they are five and six, but by the time they are over seven, these memories decline rapidly.\n",
    "Most children by the age of eight or nine can only recall 35% of their experiences from under the age of three, according to the new findings.\n",
    "The scientists behind the research say this is because at around this age the way we form memories begins to change. They say that before the age of seven children do not have a sense of time and place in their memories. In older children, however, the early events they can recall tend to be more adult-like in the way they are formed. Children also have a far faster rate of forgetting than adults. The findings also help to explain why children can often have clear memories of events but then forget them just a couple of years later.\n",
    "The youngsters first visited the laboratory at the age of three and discussed six unique events from their past, such as family outings, trips to the zoo, and the first day of school. The children then returned for a second session between the ages of five and nine to discuss the same events. The researchers found that between the ages of five and seven, the amount of memories the children could recall remained between 63 -72 percent. However, the amount of information eight-to nine-year-old children could recall dropped to 35 and 36 percent.\n",
    "\"\"\""
   ]
  },
  {
   "cell_type": "code",
   "execution_count": 36,
   "id": "e2def92e",
   "metadata": {},
   "outputs": [
    {
     "name": "stdout",
     "output_type": "stream",
     "text": [
      "\n",
      "{\n",
      "  \"answer\": [\n",
      "    \"recall\",\n",
      "    \"events\",\n",
      "    \"scientists\",\n",
      "    \"childhood\",\n",
      "    \"memories\",\n",
      "    \"study\",\n",
      "    \"three-year-olds\",\n",
      "    \"persist\",\n",
      "    \"decline\",\n",
      "    \"experiences\",\n",
      "    \"change\",\n",
      "    \"sense\",\n",
      "    \"time\",\n",
      "    \"place\",\n",
      "    \"adult-like\",\n",
      "    \"children\",\n",
      "    \"forgotten\",\n",
      "    \"laboratory\",\n",
      "    \"unique\",\n",
      "    \"family\",\n",
      "    \"outings\",\n",
      "    \"zoo\",\n",
      "    \"school\",\n",
      "    \"amount\",\n",
      "    \"information\"\n",
      "  ]\n",
      "}\n",
      "\n"
     ]
    }
   ],
   "source": [
    "client = ZhipuAI(api_key=\"2bdaa31b12a949ed8ff51cb875146002.4mqQT6TIDgVAnd1Y\") \n",
    "\n",
    "response = client.chat.completions.create(\n",
    "    model=\"GLM-4-Flash\",\n",
    "    messages=[\n",
    "        {\"role\": \"system\", \n",
    "        \"content\": SYSTEM_PROMPT.format(identity=identity) },\n",
    "        {\"role\": \"user\", \"content\": word},\n",
    "    ],\n",
    "    response_format= {\n",
    "        'type': 'json_object'\n",
    "    }\n",
    ")\n",
    "print(response.choices[0].message.content)"
   ]
  }
 ],
 "metadata": {
  "kernelspec": {
   "display_name": "yaolao",
   "language": "python",
   "name": "python3"
  },
  "language_info": {
   "codemirror_mode": {
    "name": "ipython",
    "version": 3
   },
   "file_extension": ".py",
   "mimetype": "text/x-python",
   "name": "python",
   "nbconvert_exporter": "python",
   "pygments_lexer": "ipython3",
   "version": "3.10.18"
  }
 },
 "nbformat": 4,
 "nbformat_minor": 5
}
